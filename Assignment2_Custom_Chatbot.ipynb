{
 "cells": [
  {
   "cell_type": "markdown",
   "id": "124e5672",
   "metadata": {},
   "source": [
    "# Custom Chatbot Project"
   ]
  },
  {
   "cell_type": "markdown",
   "id": "2a4a94b3",
   "metadata": {},
   "source": [
    "Dataset: Character_description.csv\n",
    "\n",
    "This dataset contains character descriptions from multiple mediums, organized into four columns: \"Name,\" which lists the names of the characters; \"Description,\" which provides detailed descriptions of each character; \"Medium,\" which specifies the type of medium (such as play, movie, musical, or reality show) in which the character appears; and \"Setting,\" which indicates the geographical or cultural location associated with the character, such as England, Texas, Australia, or the USA.\n",
    "This dataset is chosen because we aim to develop a tool that acts as an expert for choosing characters from shows."
   ]
  },
  {
   "cell_type": "markdown",
   "id": "a63d4c5f",
   "metadata": {},
   "source": [
    "## Data Wrangling\n",
    "\n",
    "TODO: In the cells below, load your chosen dataset into a `pandas` dataframe with a column named `\"text\"`. This column should contain all of your text data, separated into at least 20 rows."
   ]
  },
  {
   "cell_type": "code",
   "execution_count": 1,
   "id": "c69b83a1",
   "metadata": {},
   "outputs": [],
   "source": [
    "import numpy as np\n",
    "import pandas as pd\n",
    "import openai\n",
    "import os\n",
    "from openai.embeddings_utils import distances_from_embeddings"
   ]
  },
  {
   "cell_type": "code",
   "execution_count": 2,
   "id": "0a595980",
   "metadata": {},
   "outputs": [],
   "source": [
    "#import openai api key\n",
    "OPENAI_API_KEY = \"\"\n",
    "openai.api_key = OPENAI_API_KEY\n",
    "MAX_TOKENS = 1000\n",
    "EMBEDDING_MODEL_NAME = \"text-embedding-ada-002\""
   ]
  },
  {
   "cell_type": "code",
   "execution_count": 3,
   "id": "9873112a",
   "metadata": {},
   "outputs": [
    {
     "data": {
      "text/html": [
       "<div>\n",
       "<style scoped>\n",
       "    .dataframe tbody tr th:only-of-type {\n",
       "        vertical-align: middle;\n",
       "    }\n",
       "\n",
       "    .dataframe tbody tr th {\n",
       "        vertical-align: top;\n",
       "    }\n",
       "\n",
       "    .dataframe thead th {\n",
       "        text-align: right;\n",
       "    }\n",
       "</style>\n",
       "<table border=\"1\" class=\"dataframe\">\n",
       "  <thead>\n",
       "    <tr style=\"text-align: right;\">\n",
       "      <th></th>\n",
       "      <th>Name</th>\n",
       "      <th>Description</th>\n",
       "      <th>Medium</th>\n",
       "      <th>Setting</th>\n",
       "    </tr>\n",
       "  </thead>\n",
       "  <tbody>\n",
       "    <tr>\n",
       "      <th>0</th>\n",
       "      <td>Emily</td>\n",
       "      <td>A young woman in her early 20s, Emily is an as...</td>\n",
       "      <td>Play</td>\n",
       "      <td>England</td>\n",
       "    </tr>\n",
       "    <tr>\n",
       "      <th>1</th>\n",
       "      <td>Jack</td>\n",
       "      <td>A middle-aged man in his 40s, Jack is a succes...</td>\n",
       "      <td>Play</td>\n",
       "      <td>England</td>\n",
       "    </tr>\n",
       "    <tr>\n",
       "      <th>2</th>\n",
       "      <td>Alice</td>\n",
       "      <td>A woman in her late 30s, Alice is a warm and n...</td>\n",
       "      <td>Play</td>\n",
       "      <td>England</td>\n",
       "    </tr>\n",
       "    <tr>\n",
       "      <th>3</th>\n",
       "      <td>Tom</td>\n",
       "      <td>A man in his 50s, Tom is a retired soldier and...</td>\n",
       "      <td>Play</td>\n",
       "      <td>England</td>\n",
       "    </tr>\n",
       "    <tr>\n",
       "      <th>4</th>\n",
       "      <td>Sarah</td>\n",
       "      <td>A woman in her mid-20s, Sarah is a free-spirit...</td>\n",
       "      <td>Play</td>\n",
       "      <td>England</td>\n",
       "    </tr>\n",
       "  </tbody>\n",
       "</table>\n",
       "</div>"
      ],
      "text/plain": [
       "    Name                                        Description Medium  Setting\n",
       "0  Emily  A young woman in her early 20s, Emily is an as...   Play  England\n",
       "1   Jack  A middle-aged man in his 40s, Jack is a succes...   Play  England\n",
       "2  Alice  A woman in her late 30s, Alice is a warm and n...   Play  England\n",
       "3    Tom  A man in his 50s, Tom is a retired soldier and...   Play  England\n",
       "4  Sarah  A woman in her mid-20s, Sarah is a free-spirit...   Play  England"
      ]
     },
     "execution_count": 3,
     "metadata": {},
     "output_type": "execute_result"
    }
   ],
   "source": [
    "df = pd.read_csv('data/character_descriptions.csv')\n",
    "df.head()"
   ]
  },
  {
   "cell_type": "code",
   "execution_count": 4,
   "id": "acb3a9fd",
   "metadata": {},
   "outputs": [
    {
     "data": {
      "text/plain": [
       "array(['Play', 'Movie', 'Limited Series', 'Musical', 'Reality Show',\n",
       "       'Opera', 'Sitcom'], dtype=object)"
      ]
     },
     "execution_count": 4,
     "metadata": {},
     "output_type": "execute_result"
    }
   ],
   "source": [
    "df['Medium'].unique()"
   ]
  },
  {
   "cell_type": "code",
   "execution_count": 5,
   "id": "1af15446",
   "metadata": {},
   "outputs": [
    {
     "data": {
      "text/plain": [
       "array(['England', 'Texas', 'Australia', 'USA', 'Italy', 'Ancient Greece'],\n",
       "      dtype=object)"
      ]
     },
     "execution_count": 5,
     "metadata": {},
     "output_type": "execute_result"
    }
   ],
   "source": [
    "df['Setting'].unique()"
   ]
  },
  {
   "cell_type": "code",
   "execution_count": 6,
   "id": "03975a9b",
   "metadata": {},
   "outputs": [
    {
     "data": {
      "text/plain": [
       "\"The name of the character is Emily. A young woman in her early 20s, Emily is an aspiring actress and Alice's daughter. She has a bubbly personality and a quick wit, but struggles with self-doubt and insecurity. She's also in a relationship with George.The character are likely to act in aPlay and lives in England\""
      ]
     },
     "execution_count": 6,
     "metadata": {},
     "output_type": "execute_result"
    }
   ],
   "source": [
    "#concat these four columns\n",
    "df['text'] = 'The name of the character is ' + df['Name'] + '. ' + df['Description'] + 'The character are likely to act in a' + df['Medium'] + ' and lives in ' + df['Setting']\n",
    "df['text'][0]"
   ]
  },
  {
   "cell_type": "code",
   "execution_count": 7,
   "id": "cbcf87dd",
   "metadata": {},
   "outputs": [
    {
     "data": {
      "text/html": [
       "<div>\n",
       "<style scoped>\n",
       "    .dataframe tbody tr th:only-of-type {\n",
       "        vertical-align: middle;\n",
       "    }\n",
       "\n",
       "    .dataframe tbody tr th {\n",
       "        vertical-align: top;\n",
       "    }\n",
       "\n",
       "    .dataframe thead th {\n",
       "        text-align: right;\n",
       "    }\n",
       "</style>\n",
       "<table border=\"1\" class=\"dataframe\">\n",
       "  <thead>\n",
       "    <tr style=\"text-align: right;\">\n",
       "      <th></th>\n",
       "      <th>Name</th>\n",
       "      <th>Description</th>\n",
       "      <th>Medium</th>\n",
       "      <th>Setting</th>\n",
       "      <th>text</th>\n",
       "      <th>embeddings</th>\n",
       "    </tr>\n",
       "  </thead>\n",
       "  <tbody>\n",
       "    <tr>\n",
       "      <th>0</th>\n",
       "      <td>Emily</td>\n",
       "      <td>A young woman in her early 20s, Emily is an as...</td>\n",
       "      <td>Play</td>\n",
       "      <td>England</td>\n",
       "      <td>The name of the character is Emily. A young wo...</td>\n",
       "      <td>[-0.011719183064997196, -0.017467858269810677,...</td>\n",
       "    </tr>\n",
       "    <tr>\n",
       "      <th>1</th>\n",
       "      <td>Jack</td>\n",
       "      <td>A middle-aged man in his 40s, Jack is a succes...</td>\n",
       "      <td>Play</td>\n",
       "      <td>England</td>\n",
       "      <td>The name of the character is Jack. A middle-ag...</td>\n",
       "      <td>[0.007291092071682215, -0.02629977837204933, -...</td>\n",
       "    </tr>\n",
       "    <tr>\n",
       "      <th>2</th>\n",
       "      <td>Alice</td>\n",
       "      <td>A woman in her late 30s, Alice is a warm and n...</td>\n",
       "      <td>Play</td>\n",
       "      <td>England</td>\n",
       "      <td>The name of the character is Alice. A woman in...</td>\n",
       "      <td>[0.00823904573917389, -0.013944988138973713, -...</td>\n",
       "    </tr>\n",
       "    <tr>\n",
       "      <th>3</th>\n",
       "      <td>Tom</td>\n",
       "      <td>A man in his 50s, Tom is a retired soldier and...</td>\n",
       "      <td>Play</td>\n",
       "      <td>England</td>\n",
       "      <td>The name of the character is Tom. A man in his...</td>\n",
       "      <td>[0.0169515460729599, -0.021636711433529854, -0...</td>\n",
       "    </tr>\n",
       "    <tr>\n",
       "      <th>4</th>\n",
       "      <td>Sarah</td>\n",
       "      <td>A woman in her mid-20s, Sarah is a free-spirit...</td>\n",
       "      <td>Play</td>\n",
       "      <td>England</td>\n",
       "      <td>The name of the character is Sarah. A woman in...</td>\n",
       "      <td>[-0.011701270937919617, -0.02911296673119068, ...</td>\n",
       "    </tr>\n",
       "  </tbody>\n",
       "</table>\n",
       "</div>"
      ],
      "text/plain": [
       "    Name                                        Description Medium  Setting  \\\n",
       "0  Emily  A young woman in her early 20s, Emily is an as...   Play  England   \n",
       "1   Jack  A middle-aged man in his 40s, Jack is a succes...   Play  England   \n",
       "2  Alice  A woman in her late 30s, Alice is a warm and n...   Play  England   \n",
       "3    Tom  A man in his 50s, Tom is a retired soldier and...   Play  England   \n",
       "4  Sarah  A woman in her mid-20s, Sarah is a free-spirit...   Play  England   \n",
       "\n",
       "                                                text  \\\n",
       "0  The name of the character is Emily. A young wo...   \n",
       "1  The name of the character is Jack. A middle-ag...   \n",
       "2  The name of the character is Alice. A woman in...   \n",
       "3  The name of the character is Tom. A man in his...   \n",
       "4  The name of the character is Sarah. A woman in...   \n",
       "\n",
       "                                          embeddings  \n",
       "0  [-0.011719183064997196, -0.017467858269810677,...  \n",
       "1  [0.007291092071682215, -0.02629977837204933, -...  \n",
       "2  [0.00823904573917389, -0.013944988138973713, -...  \n",
       "3  [0.0169515460729599, -0.021636711433529854, -0...  \n",
       "4  [-0.011701270937919617, -0.02911296673119068, ...  "
      ]
     },
     "execution_count": 7,
     "metadata": {},
     "output_type": "execute_result"
    }
   ],
   "source": [
    "#create the embeddings\n",
    "response = openai.Embedding.create(\n",
    "    input=df['text'].tolist(),\n",
    "    engine=EMBEDDING_MODEL_NAME\n",
    ")\n",
    "\n",
    "embeddings = [data['embedding'] for data in response['data']]\n",
    "df['embeddings'] = embeddings\n",
    "df.head()\n"
   ]
  },
  {
   "cell_type": "code",
   "execution_count": 8,
   "id": "c92e656b",
   "metadata": {},
   "outputs": [],
   "source": [
    "df.to_csv('character_embeddings.csv')"
   ]
  },
  {
   "cell_type": "markdown",
   "id": "ae769871",
   "metadata": {},
   "source": [
    "## Custom Query Completion\n",
    "\n",
    "TODO: In the cells below, compose a custom query using your chosen dataset and retrieve results from an OpenAI `Completion` model. You may copy and paste any useful code from the course materials."
   ]
  },
  {
   "cell_type": "code",
   "execution_count": 9,
   "id": "582f0656",
   "metadata": {},
   "outputs": [
    {
     "data": {
      "text/html": [
       "<div>\n",
       "<style scoped>\n",
       "    .dataframe tbody tr th:only-of-type {\n",
       "        vertical-align: middle;\n",
       "    }\n",
       "\n",
       "    .dataframe tbody tr th {\n",
       "        vertical-align: top;\n",
       "    }\n",
       "\n",
       "    .dataframe thead th {\n",
       "        text-align: right;\n",
       "    }\n",
       "</style>\n",
       "<table border=\"1\" class=\"dataframe\">\n",
       "  <thead>\n",
       "    <tr style=\"text-align: right;\">\n",
       "      <th></th>\n",
       "      <th>Unnamed: 0</th>\n",
       "      <th>Name</th>\n",
       "      <th>Description</th>\n",
       "      <th>Medium</th>\n",
       "      <th>Setting</th>\n",
       "      <th>text</th>\n",
       "      <th>embeddings</th>\n",
       "    </tr>\n",
       "  </thead>\n",
       "  <tbody>\n",
       "    <tr>\n",
       "      <th>0</th>\n",
       "      <td>0</td>\n",
       "      <td>Emily</td>\n",
       "      <td>A young woman in her early 20s, Emily is an as...</td>\n",
       "      <td>Play</td>\n",
       "      <td>England</td>\n",
       "      <td>The name of the character is Emily. A young wo...</td>\n",
       "      <td>[-0.011719183064997196, -0.017467858269810677,...</td>\n",
       "    </tr>\n",
       "    <tr>\n",
       "      <th>1</th>\n",
       "      <td>1</td>\n",
       "      <td>Jack</td>\n",
       "      <td>A middle-aged man in his 40s, Jack is a succes...</td>\n",
       "      <td>Play</td>\n",
       "      <td>England</td>\n",
       "      <td>The name of the character is Jack. A middle-ag...</td>\n",
       "      <td>[0.007291092071682215, -0.02629977837204933, -...</td>\n",
       "    </tr>\n",
       "    <tr>\n",
       "      <th>2</th>\n",
       "      <td>2</td>\n",
       "      <td>Alice</td>\n",
       "      <td>A woman in her late 30s, Alice is a warm and n...</td>\n",
       "      <td>Play</td>\n",
       "      <td>England</td>\n",
       "      <td>The name of the character is Alice. A woman in...</td>\n",
       "      <td>[0.00823904573917389, -0.013944988138973713, -...</td>\n",
       "    </tr>\n",
       "    <tr>\n",
       "      <th>3</th>\n",
       "      <td>3</td>\n",
       "      <td>Tom</td>\n",
       "      <td>A man in his 50s, Tom is a retired soldier and...</td>\n",
       "      <td>Play</td>\n",
       "      <td>England</td>\n",
       "      <td>The name of the character is Tom. A man in his...</td>\n",
       "      <td>[0.0169515460729599, -0.021636711433529854, -0...</td>\n",
       "    </tr>\n",
       "    <tr>\n",
       "      <th>4</th>\n",
       "      <td>4</td>\n",
       "      <td>Sarah</td>\n",
       "      <td>A woman in her mid-20s, Sarah is a free-spirit...</td>\n",
       "      <td>Play</td>\n",
       "      <td>England</td>\n",
       "      <td>The name of the character is Sarah. A woman in...</td>\n",
       "      <td>[-0.011701270937919617, -0.02911296673119068, ...</td>\n",
       "    </tr>\n",
       "  </tbody>\n",
       "</table>\n",
       "</div>"
      ],
      "text/plain": [
       "   Unnamed: 0   Name                                        Description  \\\n",
       "0           0  Emily  A young woman in her early 20s, Emily is an as...   \n",
       "1           1   Jack  A middle-aged man in his 40s, Jack is a succes...   \n",
       "2           2  Alice  A woman in her late 30s, Alice is a warm and n...   \n",
       "3           3    Tom  A man in his 50s, Tom is a retired soldier and...   \n",
       "4           4  Sarah  A woman in her mid-20s, Sarah is a free-spirit...   \n",
       "\n",
       "  Medium  Setting                                               text  \\\n",
       "0   Play  England  The name of the character is Emily. A young wo...   \n",
       "1   Play  England  The name of the character is Jack. A middle-ag...   \n",
       "2   Play  England  The name of the character is Alice. A woman in...   \n",
       "3   Play  England  The name of the character is Tom. A man in his...   \n",
       "4   Play  England  The name of the character is Sarah. A woman in...   \n",
       "\n",
       "                                          embeddings  \n",
       "0  [-0.011719183064997196, -0.017467858269810677,...  \n",
       "1  [0.007291092071682215, -0.02629977837204933, -...  \n",
       "2  [0.00823904573917389, -0.013944988138973713, -...  \n",
       "3  [0.0169515460729599, -0.021636711433529854, -0...  \n",
       "4  [-0.011701270937919617, -0.02911296673119068, ...  "
      ]
     },
     "execution_count": 9,
     "metadata": {},
     "output_type": "execute_result"
    }
   ],
   "source": [
    "df = pd.read_csv('character_embeddings.csv')\n",
    "df['embeddings'] = df['embeddings'].apply(eval).apply(np.array)\n",
    "df.head()"
   ]
  },
  {
   "cell_type": "code",
   "execution_count": 10,
   "id": "8b6e1f75",
   "metadata": {},
   "outputs": [],
   "source": [
    "def question_embeddings(question):\n",
    "    response = openai.Embedding.create(\n",
    "        input=question,\n",
    "        engine=EMBEDDING_MODEL_NAME\n",
    "    )\n",
    "    return response['data'][0]['embedding']"
   ]
  },
  {
   "cell_type": "code",
   "execution_count": 11,
   "id": "13f2dcd7",
   "metadata": {},
   "outputs": [],
   "source": [
    "question1 = \"Who would be an ideal choice for an athlete role in an American reality show?\"\n",
    "question2 = \"Can you name two male characters who are entrepreneurs in reality show?\""
   ]
  },
  {
   "cell_type": "code",
   "execution_count": 12,
   "id": "bb14f1bd",
   "metadata": {},
   "outputs": [
    {
     "data": {
      "text/plain": [
       "[-0.007107841782271862, -0.010892109014093876, -0.0037842674646526575]"
      ]
     },
     "execution_count": 12,
     "metadata": {},
     "output_type": "execute_result"
    }
   ],
   "source": [
    "question1_embedding = question_embeddings(question1)\n",
    "question2_embedding = question_embeddings(question2)\n",
    "question1_embedding[:3]"
   ]
  },
  {
   "cell_type": "code",
   "execution_count": 13,
   "id": "c403f543",
   "metadata": {},
   "outputs": [],
   "source": [
    "from openai.embeddings_utils import get_embedding, distances_from_embeddings\n",
    "q1_distance = distances_from_embeddings(question1_embedding, df['embeddings'].tolist(), distance_metric = 'cosine')\n",
    "q2_distance = distances_from_embeddings(question2_embedding, df['embeddings'].tolist(), distance_metric = 'cosine')"
   ]
  },
  {
   "cell_type": "code",
   "execution_count": 14,
   "id": "74280b92",
   "metadata": {},
   "outputs": [
    {
     "data": {
      "text/html": [
       "<div>\n",
       "<style scoped>\n",
       "    .dataframe tbody tr th:only-of-type {\n",
       "        vertical-align: middle;\n",
       "    }\n",
       "\n",
       "    .dataframe tbody tr th {\n",
       "        vertical-align: top;\n",
       "    }\n",
       "\n",
       "    .dataframe thead th {\n",
       "        text-align: right;\n",
       "    }\n",
       "</style>\n",
       "<table border=\"1\" class=\"dataframe\">\n",
       "  <thead>\n",
       "    <tr style=\"text-align: right;\">\n",
       "      <th></th>\n",
       "      <th>Unnamed: 0</th>\n",
       "      <th>Name</th>\n",
       "      <th>Description</th>\n",
       "      <th>Medium</th>\n",
       "      <th>Setting</th>\n",
       "      <th>text</th>\n",
       "      <th>embeddings</th>\n",
       "      <th>q1_distance</th>\n",
       "      <th>q2_distance</th>\n",
       "    </tr>\n",
       "  </thead>\n",
       "  <tbody>\n",
       "    <tr>\n",
       "      <th>0</th>\n",
       "      <td>0</td>\n",
       "      <td>Emily</td>\n",
       "      <td>A young woman in her early 20s, Emily is an as...</td>\n",
       "      <td>Play</td>\n",
       "      <td>England</td>\n",
       "      <td>The name of the character is Emily. A young wo...</td>\n",
       "      <td>[-0.011719183064997196, -0.017467858269810677,...</td>\n",
       "      <td>0.253840</td>\n",
       "      <td>0.277849</td>\n",
       "    </tr>\n",
       "    <tr>\n",
       "      <th>1</th>\n",
       "      <td>1</td>\n",
       "      <td>Jack</td>\n",
       "      <td>A middle-aged man in his 40s, Jack is a succes...</td>\n",
       "      <td>Play</td>\n",
       "      <td>England</td>\n",
       "      <td>The name of the character is Jack. A middle-ag...</td>\n",
       "      <td>[0.007291092071682215, -0.02629977837204933, -...</td>\n",
       "      <td>0.259168</td>\n",
       "      <td>0.227894</td>\n",
       "    </tr>\n",
       "    <tr>\n",
       "      <th>2</th>\n",
       "      <td>2</td>\n",
       "      <td>Alice</td>\n",
       "      <td>A woman in her late 30s, Alice is a warm and n...</td>\n",
       "      <td>Play</td>\n",
       "      <td>England</td>\n",
       "      <td>The name of the character is Alice. A woman in...</td>\n",
       "      <td>[0.00823904573917389, -0.013944988138973713, -...</td>\n",
       "      <td>0.275121</td>\n",
       "      <td>0.284619</td>\n",
       "    </tr>\n",
       "    <tr>\n",
       "      <th>3</th>\n",
       "      <td>3</td>\n",
       "      <td>Tom</td>\n",
       "      <td>A man in his 50s, Tom is a retired soldier and...</td>\n",
       "      <td>Play</td>\n",
       "      <td>England</td>\n",
       "      <td>The name of the character is Tom. A man in his...</td>\n",
       "      <td>[0.0169515460729599, -0.021636711433529854, -0...</td>\n",
       "      <td>0.247994</td>\n",
       "      <td>0.249355</td>\n",
       "    </tr>\n",
       "    <tr>\n",
       "      <th>4</th>\n",
       "      <td>4</td>\n",
       "      <td>Sarah</td>\n",
       "      <td>A woman in her mid-20s, Sarah is a free-spirit...</td>\n",
       "      <td>Play</td>\n",
       "      <td>England</td>\n",
       "      <td>The name of the character is Sarah. A woman in...</td>\n",
       "      <td>[-0.011701270937919617, -0.02911296673119068, ...</td>\n",
       "      <td>0.268220</td>\n",
       "      <td>0.268956</td>\n",
       "    </tr>\n",
       "  </tbody>\n",
       "</table>\n",
       "</div>"
      ],
      "text/plain": [
       "   Unnamed: 0   Name                                        Description  \\\n",
       "0           0  Emily  A young woman in her early 20s, Emily is an as...   \n",
       "1           1   Jack  A middle-aged man in his 40s, Jack is a succes...   \n",
       "2           2  Alice  A woman in her late 30s, Alice is a warm and n...   \n",
       "3           3    Tom  A man in his 50s, Tom is a retired soldier and...   \n",
       "4           4  Sarah  A woman in her mid-20s, Sarah is a free-spirit...   \n",
       "\n",
       "  Medium  Setting                                               text  \\\n",
       "0   Play  England  The name of the character is Emily. A young wo...   \n",
       "1   Play  England  The name of the character is Jack. A middle-ag...   \n",
       "2   Play  England  The name of the character is Alice. A woman in...   \n",
       "3   Play  England  The name of the character is Tom. A man in his...   \n",
       "4   Play  England  The name of the character is Sarah. A woman in...   \n",
       "\n",
       "                                          embeddings  q1_distance  q2_distance  \n",
       "0  [-0.011719183064997196, -0.017467858269810677,...     0.253840     0.277849  \n",
       "1  [0.007291092071682215, -0.02629977837204933, -...     0.259168     0.227894  \n",
       "2  [0.00823904573917389, -0.013944988138973713, -...     0.275121     0.284619  \n",
       "3  [0.0169515460729599, -0.021636711433529854, -0...     0.247994     0.249355  \n",
       "4  [-0.011701270937919617, -0.02911296673119068, ...     0.268220     0.268956  "
      ]
     },
     "execution_count": 14,
     "metadata": {},
     "output_type": "execute_result"
    }
   ],
   "source": [
    "df['q1_distance'] = q1_distance\n",
    "df['q2_distance'] = q2_distance\n",
    "df.head()"
   ]
  },
  {
   "cell_type": "code",
   "execution_count": 15,
   "id": "d533c5ea",
   "metadata": {},
   "outputs": [],
   "source": [
    "df.to_csv('character_distances.csv')"
   ]
  },
  {
   "cell_type": "code",
   "execution_count": 16,
   "id": "cdb92d04",
   "metadata": {},
   "outputs": [
    {
     "data": {
      "text/html": [
       "<div>\n",
       "<style scoped>\n",
       "    .dataframe tbody tr th:only-of-type {\n",
       "        vertical-align: middle;\n",
       "    }\n",
       "\n",
       "    .dataframe tbody tr th {\n",
       "        vertical-align: top;\n",
       "    }\n",
       "\n",
       "    .dataframe thead th {\n",
       "        text-align: right;\n",
       "    }\n",
       "</style>\n",
       "<table border=\"1\" class=\"dataframe\">\n",
       "  <thead>\n",
       "    <tr style=\"text-align: right;\">\n",
       "      <th></th>\n",
       "      <th>Unnamed: 0</th>\n",
       "      <th>Name</th>\n",
       "      <th>Description</th>\n",
       "      <th>Medium</th>\n",
       "      <th>Setting</th>\n",
       "      <th>text</th>\n",
       "      <th>embeddings</th>\n",
       "      <th>q1_distance</th>\n",
       "      <th>q2_distance</th>\n",
       "    </tr>\n",
       "  </thead>\n",
       "  <tbody>\n",
       "    <tr>\n",
       "      <th>29</th>\n",
       "      <td>29</td>\n",
       "      <td>James</td>\n",
       "      <td>A handsome and athletic personal trainer, Jame...</td>\n",
       "      <td>Reality Show</td>\n",
       "      <td>USA</td>\n",
       "      <td>The name of the character is James. A handsome...</td>\n",
       "      <td>[-0.016125567257404327, -0.010917950421571732,...</td>\n",
       "      <td>0.161294</td>\n",
       "      <td>0.198671</td>\n",
       "    </tr>\n",
       "    <tr>\n",
       "      <th>32</th>\n",
       "      <td>32</td>\n",
       "      <td>Chloe</td>\n",
       "      <td>A driven and ambitious attorney, Chloe is alwa...</td>\n",
       "      <td>Reality Show</td>\n",
       "      <td>USA</td>\n",
       "      <td>The name of the character is Chloe. A driven a...</td>\n",
       "      <td>[-0.0008281273767352104, -0.006286941468715668...</td>\n",
       "      <td>0.197650</td>\n",
       "      <td>0.222138</td>\n",
       "    </tr>\n",
       "    <tr>\n",
       "      <th>27</th>\n",
       "      <td>27</td>\n",
       "      <td>Marcus</td>\n",
       "      <td>A charming and successful entrepreneur, Marcus...</td>\n",
       "      <td>Reality Show</td>\n",
       "      <td>USA</td>\n",
       "      <td>The name of the character is Marcus. A charmin...</td>\n",
       "      <td>[-0.0027859227266162634, -0.03991147503256798,...</td>\n",
       "      <td>0.202401</td>\n",
       "      <td>0.171335</td>\n",
       "    </tr>\n",
       "    <tr>\n",
       "      <th>26</th>\n",
       "      <td>26</td>\n",
       "      <td>Olivia</td>\n",
       "      <td>A confident and charismatic marketing executiv...</td>\n",
       "      <td>Reality Show</td>\n",
       "      <td>USA</td>\n",
       "      <td>The name of the character is Olivia. A confide...</td>\n",
       "      <td>[-0.0032992709893733263, -0.019392164424061775...</td>\n",
       "      <td>0.206977</td>\n",
       "      <td>0.226860</td>\n",
       "    </tr>\n",
       "    <tr>\n",
       "      <th>33</th>\n",
       "      <td>33</td>\n",
       "      <td>Jake</td>\n",
       "      <td>A laid-back and easygoing firefighter, Jake is...</td>\n",
       "      <td>Reality Show</td>\n",
       "      <td>USA</td>\n",
       "      <td>The name of the character is Jake. A laid-back...</td>\n",
       "      <td>[-0.01259734109044075, -0.020525598898530006, ...</td>\n",
       "      <td>0.210442</td>\n",
       "      <td>0.225137</td>\n",
       "    </tr>\n",
       "  </tbody>\n",
       "</table>\n",
       "</div>"
      ],
      "text/plain": [
       "    Unnamed: 0    Name                                        Description  \\\n",
       "29          29   James  A handsome and athletic personal trainer, Jame...   \n",
       "32          32   Chloe  A driven and ambitious attorney, Chloe is alwa...   \n",
       "27          27  Marcus  A charming and successful entrepreneur, Marcus...   \n",
       "26          26  Olivia  A confident and charismatic marketing executiv...   \n",
       "33          33    Jake  A laid-back and easygoing firefighter, Jake is...   \n",
       "\n",
       "          Medium Setting                                               text  \\\n",
       "29  Reality Show     USA  The name of the character is James. A handsome...   \n",
       "32  Reality Show     USA  The name of the character is Chloe. A driven a...   \n",
       "27  Reality Show     USA  The name of the character is Marcus. A charmin...   \n",
       "26  Reality Show     USA  The name of the character is Olivia. A confide...   \n",
       "33  Reality Show     USA  The name of the character is Jake. A laid-back...   \n",
       "\n",
       "                                           embeddings  q1_distance  \\\n",
       "29  [-0.016125567257404327, -0.010917950421571732,...     0.161294   \n",
       "32  [-0.0008281273767352104, -0.006286941468715668...     0.197650   \n",
       "27  [-0.0027859227266162634, -0.03991147503256798,...     0.202401   \n",
       "26  [-0.0032992709893733263, -0.019392164424061775...     0.206977   \n",
       "33  [-0.01259734109044075, -0.020525598898530006, ...     0.210442   \n",
       "\n",
       "    q2_distance  \n",
       "29     0.198671  \n",
       "32     0.222138  \n",
       "27     0.171335  \n",
       "26     0.226860  \n",
       "33     0.225137  "
      ]
     },
     "execution_count": 16,
     "metadata": {},
     "output_type": "execute_result"
    }
   ],
   "source": [
    "df1 = df.sort_values(by=['q1_distance'], ascending = True)\n",
    "df2 = df.sort_values(by=['q2_distance'], ascending = True)\n",
    "df1.head()"
   ]
  },
  {
   "cell_type": "code",
   "execution_count": 17,
   "id": "135bd47e",
   "metadata": {},
   "outputs": [],
   "source": [
    "import tiktoken\n",
    "tokenizer = tiktoken.get_encoding(\"cl100k_base\")\n",
    "prompt_template = \"\"\"\n",
    "Answer the question based on the context below, and if the\n",
    "question can't be answered based on the context, say\n",
    "\"I don't know\"\n",
    "\n",
    "Context:\n",
    "\n",
    "{}\n",
    "\n",
    "---\n",
    "\n",
    "Question: {}\n",
    "Answer:\"\"\""
   ]
  },
  {
   "cell_type": "code",
   "execution_count": 20,
   "id": "924642d4",
   "metadata": {},
   "outputs": [],
   "source": [
    "def get_prompt(question, df):\n",
    "    token_count = len(tokenizer.encode(prompt_template)) + len(tokenizer.encode(question))\n",
    "    context_list = []\n",
    "    for text in df[\"text\"].values:\n",
    "        token_count += len(tokenizer.encode(text))\n",
    "        if token_count <= MAX_TOKENS:\n",
    "            context_list.append(text)\n",
    "        else:\n",
    "            break\n",
    "    prompt = prompt_template.format(\"\\n\\n###\\n\\n\".join(context_list), question)\n",
    "    return prompt"
   ]
  },
  {
   "cell_type": "code",
   "execution_count": 21,
   "id": "4d910b03",
   "metadata": {},
   "outputs": [
    {
     "name": "stdout",
     "output_type": "stream",
     "text": [
      "\n",
      "Answer the question based on the context below, and if the\n",
      "question can't be answered based on the context, say\n",
      "\"I don't know\"\n",
      "\n",
      "Context:\n",
      "\n",
      "The name of the character is Marcus. A charming and successful entrepreneur, Marcus is used to getting what he wants. He's a smooth talker with a magnetic personality, but can sometimes come across as a bit too self-centered. He's looking for someone who can challenge him and keep him on his toes.The character are likely to act in aReality Show and lives in USA\n",
      "\n",
      "###\n",
      "\n",
      "The name of the character is James. A handsome and athletic personal trainer, James is always up for a challenge. He's looking for someone who is as passionate about fitness as he is, and who can keep up with his intense workout regimen. He can sometimes come across as a bit too competitive, but his heart is always in the right place.The character are likely to act in aReality Show and lives in USA\n",
      "\n",
      "###\n",
      "\n",
      "The name of the character is Lucas. A middle-aged Australian man in his 40s, Lucas is a successful businessman and the CEO of a major tech company. He's charming, charismatic, and has a way with people. He's been married to Ava, a successful fashion designer, for many years, but their marriage is on the rocks due to his infidelity.The character are likely to act in aLimited Series and lives in Australia\n",
      "\n",
      "###\n",
      "\n",
      "The name of the character is George. A man in his early 30s, George is a charming and charismatic businessman who is in a relationship with Emily. He's ambitious, confident, and always looking for the next big opportunity. However, he's also prone to bending the rules to get what he wants.The character are likely to act in aPlay and lives in England\n",
      "\n",
      "###\n",
      "\n",
      "The name of the character is Chloe. A driven and ambitious attorney, Chloe is always striving for success. She's looking for someone who can match her intellect and drive, and who is supportive of her career goals. She's a bit guarded when it comes to matters of the heart, but is ready to let her guard down for the right person.The character are likely to act in aReality Show and lives in USA\n",
      "\n",
      "###\n",
      "\n",
      "The name of the character is Noah. A quirky and creative graphic designer, Noah is always pushing the boundaries with his art. He's looking for someone who can appreciate his unique perspective and isn't afraid to be a little unconventional. He's a bit of a romantic at heart, and loves nothing more than creating grand gestures of love for the people he cares about.The character are likely to act in aReality Show and lives in USA\n",
      "\n",
      "###\n",
      "\n",
      "The name of the character is Jake. A laid-back and easygoing firefighter, Jake is the quintessential good guy. He's looking for someone who shares his values of honesty and integrity, and who is looking for a stable and committed relationship. He's a bit of a hopeless romantic, and is always looking for ways to sweep his partner off their feet.The character are likely to act in aReality Show and lives in USA\n",
      "\n",
      "###\n",
      "\n",
      "The name of the character is Will. A white man in his early 40s, Will is a successful businessman who's come back to his hometown after many years away. He's confident, charming, and knows how to get what he wants. However, he's also hiding a dark secret from his past that threatens to destroy everything he's worked for.The character are likely to act in aMovie and lives in Texas\n",
      "\n",
      "###\n",
      "\n",
      "The name of the character is Olivia. A confident and charismatic marketing executive with a heart of gold. Olivia is always the life of the party, and her infectious personality draws people to her. She's looking for someone who can keep up with her high energy and bring some stability to her life.The character are likely to act in aReality Show and lives in USA\n",
      "\n",
      "###\n",
      "\n",
      "The name of the character is Jack. A middle-aged man in his 40s, Jack is a successful businessman and Sarah's boss. He has a no-nonsense attitude, but is fiercely loyal to his friends and family. He's married to Alice.The character are likely to act in aPlay and lives in England\n",
      "\n",
      "###\n",
      "\n",
      "The name of the character is Mr. Mercer. The bumbling and absent-minded patriarch of the Mercer family. Mr. Mercer is often clueless about what is going on around him and relies on his wife to keep him in line. He has a secret love of practical jokes and often finds himself in trouble because of them.The character are likely to act in aSitcom and lives in USA\n",
      "\n",
      "###\n",
      "\n",
      "The name of the character is Captain James. The charismatic and dashing captain of the local militia. Captain James is a ladies' man and enjoys flirting with the women of the town. He has a friendly rivalry with Reverend Brown and often teases him about his piousness.The character are likely to act in aSitcom and lives in USA\n",
      "\n",
      "---\n",
      "\n",
      "Question: Can you name two male characters who are entrepreneurs in reality show?\n",
      "Answer:\n"
     ]
    }
   ],
   "source": [
    "q1_prompt = get_prompt(question1, df1)\n",
    "q2_prompt = get_prompt(question2, df2)\n",
    "print(q2_prompt)"
   ]
  },
  {
   "cell_type": "markdown",
   "id": "1783f146",
   "metadata": {},
   "source": [
    "## Custom Performance Demonstration\n",
    "\n",
    "TODO: In the cells below, demonstrate the performance of your custom query using at least 2 questions. For each question, show the answer from a basic `Completion` model query as well as the answer from your custom query."
   ]
  },
  {
   "cell_type": "markdown",
   "id": "4f11fdc0",
   "metadata": {},
   "source": [
    "### Question 1"
   ]
  },
  {
   "cell_type": "code",
   "execution_count": 22,
   "id": "4901c850",
   "metadata": {},
   "outputs": [
    {
     "data": {
      "text/plain": [
       "'Who would be an ideal choice for an athlete role in an American reality show?'"
      ]
     },
     "execution_count": 22,
     "metadata": {},
     "output_type": "execute_result"
    }
   ],
   "source": [
    "question1"
   ]
  },
  {
   "cell_type": "code",
   "execution_count": 23,
   "id": "bd7a093b",
   "metadata": {},
   "outputs": [
    {
     "data": {
      "text/plain": [
       "'\\n\\nSerena Williams would be an ideal choice for an athlete role in an American'"
      ]
     },
     "execution_count": 23,
     "metadata": {},
     "output_type": "execute_result"
    }
   ],
   "source": [
    "basic_q1_response = openai.Completion.create(\n",
    "    engine=\"gpt-3.5-turbo-instruct\",\n",
    "    prompt=question1,\n",
    "    temperature = 0.5\n",
    ")\n",
    "basic_q1_response['choices'][0]['text']"
   ]
  },
  {
   "cell_type": "code",
   "execution_count": 24,
   "id": "d80508bf",
   "metadata": {},
   "outputs": [
    {
     "data": {
      "text/plain": [
       "' James'"
      ]
     },
     "execution_count": 24,
     "metadata": {},
     "output_type": "execute_result"
    }
   ],
   "source": [
    "custom_q1_response = openai.Completion.create(\n",
    "    engine=\"gpt-3.5-turbo-instruct\",\n",
    "    prompt=q1_prompt,\n",
    "    temperature = 0.5\n",
    ")\n",
    "custom_q1_response['choices'][0]['text']"
   ]
  },
  {
   "cell_type": "code",
   "execution_count": 32,
   "id": "468b5564",
   "metadata": {},
   "outputs": [
    {
     "data": {
      "text/html": [
       "<div>\n",
       "<style scoped>\n",
       "    .dataframe tbody tr th:only-of-type {\n",
       "        vertical-align: middle;\n",
       "    }\n",
       "\n",
       "    .dataframe tbody tr th {\n",
       "        vertical-align: top;\n",
       "    }\n",
       "\n",
       "    .dataframe thead th {\n",
       "        text-align: right;\n",
       "    }\n",
       "</style>\n",
       "<table border=\"1\" class=\"dataframe\">\n",
       "  <thead>\n",
       "    <tr style=\"text-align: right;\">\n",
       "      <th></th>\n",
       "      <th>Unnamed: 0</th>\n",
       "      <th>Name</th>\n",
       "      <th>Description</th>\n",
       "      <th>Medium</th>\n",
       "      <th>Setting</th>\n",
       "      <th>text</th>\n",
       "      <th>embeddings</th>\n",
       "      <th>q1_distance</th>\n",
       "      <th>q2_distance</th>\n",
       "    </tr>\n",
       "  </thead>\n",
       "  <tbody>\n",
       "  </tbody>\n",
       "</table>\n",
       "</div>"
      ],
      "text/plain": [
       "Empty DataFrame\n",
       "Columns: [Unnamed: 0, Name, Description, Medium, Setting, text, embeddings, q1_distance, q2_distance]\n",
       "Index: []"
      ]
     },
     "execution_count": 32,
     "metadata": {},
     "output_type": "execute_result"
    }
   ],
   "source": [
    "df[df['Name'].str.lower().str.contains('williams')] \n",
    "#no one named Serena Williams, thus the second prompt is better."
   ]
  },
  {
   "cell_type": "code",
   "execution_count": 33,
   "id": "b6b67ec4",
   "metadata": {},
   "outputs": [
    {
     "data": {
      "text/html": [
       "<div>\n",
       "<style scoped>\n",
       "    .dataframe tbody tr th:only-of-type {\n",
       "        vertical-align: middle;\n",
       "    }\n",
       "\n",
       "    .dataframe tbody tr th {\n",
       "        vertical-align: top;\n",
       "    }\n",
       "\n",
       "    .dataframe thead th {\n",
       "        text-align: right;\n",
       "    }\n",
       "</style>\n",
       "<table border=\"1\" class=\"dataframe\">\n",
       "  <thead>\n",
       "    <tr style=\"text-align: right;\">\n",
       "      <th></th>\n",
       "      <th>Unnamed: 0</th>\n",
       "      <th>Name</th>\n",
       "      <th>Description</th>\n",
       "      <th>Medium</th>\n",
       "      <th>Setting</th>\n",
       "      <th>text</th>\n",
       "      <th>embeddings</th>\n",
       "      <th>q1_distance</th>\n",
       "      <th>q2_distance</th>\n",
       "    </tr>\n",
       "  </thead>\n",
       "  <tbody>\n",
       "    <tr>\n",
       "      <th>29</th>\n",
       "      <td>29</td>\n",
       "      <td>James</td>\n",
       "      <td>A handsome and athletic personal trainer, Jame...</td>\n",
       "      <td>Reality Show</td>\n",
       "      <td>USA</td>\n",
       "      <td>The name of the character is James. A handsome...</td>\n",
       "      <td>[-0.016125567257404327, -0.010917950421571732,...</td>\n",
       "      <td>0.161294</td>\n",
       "      <td>0.198671</td>\n",
       "    </tr>\n",
       "    <tr>\n",
       "      <th>52</th>\n",
       "      <td>52</td>\n",
       "      <td>Captain James</td>\n",
       "      <td>The charismatic and dashing captain of the loc...</td>\n",
       "      <td>Sitcom</td>\n",
       "      <td>USA</td>\n",
       "      <td>The name of the character is Captain James. Th...</td>\n",
       "      <td>[-0.008761197328567505, -0.019974468275904655,...</td>\n",
       "      <td>0.247960</td>\n",
       "      <td>0.240890</td>\n",
       "    </tr>\n",
       "  </tbody>\n",
       "</table>\n",
       "</div>"
      ],
      "text/plain": [
       "    Unnamed: 0           Name  \\\n",
       "29          29          James   \n",
       "52          52  Captain James   \n",
       "\n",
       "                                          Description        Medium Setting  \\\n",
       "29  A handsome and athletic personal trainer, Jame...  Reality Show     USA   \n",
       "52  The charismatic and dashing captain of the loc...        Sitcom     USA   \n",
       "\n",
       "                                                 text  \\\n",
       "29  The name of the character is James. A handsome...   \n",
       "52  The name of the character is Captain James. Th...   \n",
       "\n",
       "                                           embeddings  q1_distance  \\\n",
       "29  [-0.016125567257404327, -0.010917950421571732,...     0.161294   \n",
       "52  [-0.008761197328567505, -0.019974468275904655,...     0.247960   \n",
       "\n",
       "    q2_distance  \n",
       "29     0.198671  \n",
       "52     0.240890  "
      ]
     },
     "execution_count": 33,
     "metadata": {},
     "output_type": "execute_result"
    }
   ],
   "source": [
    "df[df['Name'].str.lower().str.contains('james')]"
   ]
  },
  {
   "cell_type": "markdown",
   "id": "6e86e37c",
   "metadata": {},
   "source": [
    "### Question 2"
   ]
  },
  {
   "cell_type": "code",
   "execution_count": 34,
   "id": "6f646989",
   "metadata": {},
   "outputs": [
    {
     "data": {
      "text/plain": [
       "'Can you name two male characters who are entrepreneurs in reality show?'"
      ]
     },
     "execution_count": 34,
     "metadata": {},
     "output_type": "execute_result"
    }
   ],
   "source": [
    "question2"
   ]
  },
  {
   "cell_type": "code",
   "execution_count": 35,
   "id": "11c07a54",
   "metadata": {},
   "outputs": [
    {
     "data": {
      "text/plain": [
       "'\\n\\n1. Daymond John from \"Shark Tank\"\\n2. Marcus Lemon'"
      ]
     },
     "execution_count": 35,
     "metadata": {},
     "output_type": "execute_result"
    }
   ],
   "source": [
    "basic_q2_response = openai.Completion.create(\n",
    "    engine=\"gpt-3.5-turbo-instruct\",\n",
    "    prompt=question2,\n",
    "    temperature = 0.5\n",
    ")\n",
    "basic_q2_response['choices'][0]['text']"
   ]
  },
  {
   "cell_type": "code",
   "execution_count": 37,
   "id": "0c455466",
   "metadata": {},
   "outputs": [
    {
     "data": {
      "text/html": [
       "<div>\n",
       "<style scoped>\n",
       "    .dataframe tbody tr th:only-of-type {\n",
       "        vertical-align: middle;\n",
       "    }\n",
       "\n",
       "    .dataframe tbody tr th {\n",
       "        vertical-align: top;\n",
       "    }\n",
       "\n",
       "    .dataframe thead th {\n",
       "        text-align: right;\n",
       "    }\n",
       "</style>\n",
       "<table border=\"1\" class=\"dataframe\">\n",
       "  <thead>\n",
       "    <tr style=\"text-align: right;\">\n",
       "      <th></th>\n",
       "      <th>Unnamed: 0</th>\n",
       "      <th>Name</th>\n",
       "      <th>Description</th>\n",
       "      <th>Medium</th>\n",
       "      <th>Setting</th>\n",
       "      <th>text</th>\n",
       "      <th>embeddings</th>\n",
       "      <th>q1_distance</th>\n",
       "      <th>q2_distance</th>\n",
       "    </tr>\n",
       "  </thead>\n",
       "  <tbody>\n",
       "  </tbody>\n",
       "</table>\n",
       "</div>"
      ],
      "text/plain": [
       "Empty DataFrame\n",
       "Columns: [Unnamed: 0, Name, Description, Medium, Setting, text, embeddings, q1_distance, q2_distance]\n",
       "Index: []"
      ]
     },
     "execution_count": 37,
     "metadata": {},
     "output_type": "execute_result"
    }
   ],
   "source": [
    "df[df['Name'].str.lower().str.contains('daymond')] \n",
    "#no one named Daymond John"
   ]
  },
  {
   "cell_type": "code",
   "execution_count": 38,
   "id": "31b34f20",
   "metadata": {},
   "outputs": [
    {
     "data": {
      "text/html": [
       "<div>\n",
       "<style scoped>\n",
       "    .dataframe tbody tr th:only-of-type {\n",
       "        vertical-align: middle;\n",
       "    }\n",
       "\n",
       "    .dataframe tbody tr th {\n",
       "        vertical-align: top;\n",
       "    }\n",
       "\n",
       "    .dataframe thead th {\n",
       "        text-align: right;\n",
       "    }\n",
       "</style>\n",
       "<table border=\"1\" class=\"dataframe\">\n",
       "  <thead>\n",
       "    <tr style=\"text-align: right;\">\n",
       "      <th></th>\n",
       "      <th>Unnamed: 0</th>\n",
       "      <th>Name</th>\n",
       "      <th>Description</th>\n",
       "      <th>Medium</th>\n",
       "      <th>Setting</th>\n",
       "      <th>text</th>\n",
       "      <th>embeddings</th>\n",
       "      <th>q1_distance</th>\n",
       "      <th>q2_distance</th>\n",
       "    </tr>\n",
       "  </thead>\n",
       "  <tbody>\n",
       "  </tbody>\n",
       "</table>\n",
       "</div>"
      ],
      "text/plain": [
       "Empty DataFrame\n",
       "Columns: [Unnamed: 0, Name, Description, Medium, Setting, text, embeddings, q1_distance, q2_distance]\n",
       "Index: []"
      ]
     },
     "execution_count": 38,
     "metadata": {},
     "output_type": "execute_result"
    }
   ],
   "source": [
    "df[df['Name'].str.lower().str.contains('lemon')]\n",
    "#no one named Marcus Lemon"
   ]
  },
  {
   "cell_type": "code",
   "execution_count": 39,
   "id": "103f3e5e",
   "metadata": {},
   "outputs": [
    {
     "data": {
      "text/plain": [
       "' Marcus and George'"
      ]
     },
     "execution_count": 39,
     "metadata": {},
     "output_type": "execute_result"
    }
   ],
   "source": [
    "custom_q2_response = openai.Completion.create(\n",
    "    engine=\"gpt-3.5-turbo-instruct\",\n",
    "    prompt=q2_prompt,\n",
    "    temperature = 0.5\n",
    ")\n",
    "custom_q2_response['choices'][0]['text']"
   ]
  },
  {
   "cell_type": "code",
   "execution_count": 40,
   "id": "b287d1db",
   "metadata": {},
   "outputs": [
    {
     "data": {
      "text/html": [
       "<div>\n",
       "<style scoped>\n",
       "    .dataframe tbody tr th:only-of-type {\n",
       "        vertical-align: middle;\n",
       "    }\n",
       "\n",
       "    .dataframe tbody tr th {\n",
       "        vertical-align: top;\n",
       "    }\n",
       "\n",
       "    .dataframe thead th {\n",
       "        text-align: right;\n",
       "    }\n",
       "</style>\n",
       "<table border=\"1\" class=\"dataframe\">\n",
       "  <thead>\n",
       "    <tr style=\"text-align: right;\">\n",
       "      <th></th>\n",
       "      <th>Unnamed: 0</th>\n",
       "      <th>Name</th>\n",
       "      <th>Description</th>\n",
       "      <th>Medium</th>\n",
       "      <th>Setting</th>\n",
       "      <th>text</th>\n",
       "      <th>embeddings</th>\n",
       "      <th>q1_distance</th>\n",
       "      <th>q2_distance</th>\n",
       "    </tr>\n",
       "  </thead>\n",
       "  <tbody>\n",
       "    <tr>\n",
       "      <th>27</th>\n",
       "      <td>27</td>\n",
       "      <td>Marcus</td>\n",
       "      <td>A charming and successful entrepreneur, Marcus...</td>\n",
       "      <td>Reality Show</td>\n",
       "      <td>USA</td>\n",
       "      <td>The name of the character is Marcus. A charmin...</td>\n",
       "      <td>[-0.0027859227266162634, -0.03991147503256798,...</td>\n",
       "      <td>0.202401</td>\n",
       "      <td>0.171335</td>\n",
       "    </tr>\n",
       "  </tbody>\n",
       "</table>\n",
       "</div>"
      ],
      "text/plain": [
       "    Unnamed: 0    Name                                        Description  \\\n",
       "27          27  Marcus  A charming and successful entrepreneur, Marcus...   \n",
       "\n",
       "          Medium Setting                                               text  \\\n",
       "27  Reality Show     USA  The name of the character is Marcus. A charmin...   \n",
       "\n",
       "                                           embeddings  q1_distance  \\\n",
       "27  [-0.0027859227266162634, -0.03991147503256798,...     0.202401   \n",
       "\n",
       "    q2_distance  \n",
       "27     0.171335  "
      ]
     },
     "execution_count": 40,
     "metadata": {},
     "output_type": "execute_result"
    }
   ],
   "source": [
    "df[df['Name'].str.lower().str.contains('marcus')]"
   ]
  },
  {
   "cell_type": "code",
   "execution_count": 43,
   "id": "b6bc2518",
   "metadata": {},
   "outputs": [
    {
     "data": {
      "text/plain": [
       "5    A man in his early 30s, George is a charming and charismatic businessman who is in a relationship with Emily. He's ambitious, confident, and always looking for the next big opportunity. However, he's also prone to bending the rules to get what he wants.\n",
       "Name: Description, dtype: object"
      ]
     },
     "execution_count": 43,
     "metadata": {},
     "output_type": "execute_result"
    }
   ],
   "source": [
    "pd.set_option('display.max_colwidth', None)\n",
    "df[df['Name'].str.lower().str.contains('george')]['Description']"
   ]
  },
  {
   "cell_type": "code",
   "execution_count": null,
   "id": "d592cf6f",
   "metadata": {},
   "outputs": [],
   "source": [
    "#both Marcus and George are entrepreneurs. Thus second prompt is better."
   ]
  }
 ],
 "metadata": {
  "kernelspec": {
   "display_name": "Python 3 (ipykernel)",
   "language": "python",
   "name": "python3"
  },
  "language_info": {
   "codemirror_mode": {
    "name": "ipython",
    "version": 3
   },
   "file_extension": ".py",
   "mimetype": "text/x-python",
   "name": "python",
   "nbconvert_exporter": "python",
   "pygments_lexer": "ipython3",
   "version": "3.9.18"
  }
 },
 "nbformat": 4,
 "nbformat_minor": 5
}
